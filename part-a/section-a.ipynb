{
 "cells": [
  {
   "cell_type": "markdown",
   "metadata": {},
   "source": [
    "here is code for the section 1 of the part a ex.\n",
    "it uses two help functions.\n",
    "comlexities are in the end."
   ]
  },
  {
   "cell_type": "code",
   "execution_count": 1,
   "metadata": {},
   "outputs": [
    {
     "name": "stdout",
     "output_type": "stream",
     "text": [
      "Pandas version: 2.2.3\n"
     ]
    }
   ],
   "source": [
    "import pandas as pd\n",
    "import numpy as np\n",
    "print(\"Pandas version:\", pd.__version__)"
   ]
  },
  {
   "cell_type": "code",
   "execution_count": 2,
   "metadata": {},
   "outputs": [
    {
     "data": {
      "text/html": [
       "<div>\n",
       "<style scoped>\n",
       "    .dataframe tbody tr th:only-of-type {\n",
       "        vertical-align: middle;\n",
       "    }\n",
       "\n",
       "    .dataframe tbody tr th {\n",
       "        vertical-align: top;\n",
       "    }\n",
       "\n",
       "    .dataframe thead th {\n",
       "        text-align: right;\n",
       "    }\n",
       "</style>\n",
       "<table border=\"1\" class=\"dataframe\">\n",
       "  <thead>\n",
       "    <tr style=\"text-align: right;\">\n",
       "      <th></th>\n",
       "      <th>mixed</th>\n",
       "    </tr>\n",
       "  </thead>\n",
       "  <tbody>\n",
       "    <tr>\n",
       "      <th>0</th>\n",
       "      <td>Timestamp: 2023-10-27 10:00:00, Error: ERR_400</td>\n",
       "    </tr>\n",
       "    <tr>\n",
       "      <th>1</th>\n",
       "      <td>Timestamp: 2023-10-27 10:00:00, Error: ERR_500</td>\n",
       "    </tr>\n",
       "    <tr>\n",
       "      <th>2</th>\n",
       "      <td>Timestamp: 2023-10-27 10:00:00, Error: INFO_200</td>\n",
       "    </tr>\n",
       "    <tr>\n",
       "      <th>3</th>\n",
       "      <td>Timestamp: 2023-10-27 10:00:00, Error: INFO_200</td>\n",
       "    </tr>\n",
       "    <tr>\n",
       "      <th>4</th>\n",
       "      <td>Timestamp: 2023-10-27 10:00:00, Error: WARN_101</td>\n",
       "    </tr>\n",
       "    <tr>\n",
       "      <th>...</th>\n",
       "      <td>...</td>\n",
       "    </tr>\n",
       "    <tr>\n",
       "      <th>999995</th>\n",
       "      <td>Timestamp: 2023-10-27 10:00:00, Error: ERR_500</td>\n",
       "    </tr>\n",
       "    <tr>\n",
       "      <th>999996</th>\n",
       "      <td>Timestamp: 2023-10-27 10:00:00, Error: INFO_200</td>\n",
       "    </tr>\n",
       "    <tr>\n",
       "      <th>999997</th>\n",
       "      <td>Timestamp: 2023-10-27 10:00:00, Error: ERR_404</td>\n",
       "    </tr>\n",
       "    <tr>\n",
       "      <th>999998</th>\n",
       "      <td>Timestamp: 2023-10-27 10:00:00, Error: ERR_500</td>\n",
       "    </tr>\n",
       "    <tr>\n",
       "      <th>999999</th>\n",
       "      <td>Timestamp: 2023-10-27 10:00:00, Error: ERR_500</td>\n",
       "    </tr>\n",
       "  </tbody>\n",
       "</table>\n",
       "<p>1000000 rows × 1 columns</p>\n",
       "</div>"
      ],
      "text/plain": [
       "                                                  mixed\n",
       "0        Timestamp: 2023-10-27 10:00:00, Error: ERR_400\n",
       "1        Timestamp: 2023-10-27 10:00:00, Error: ERR_500\n",
       "2       Timestamp: 2023-10-27 10:00:00, Error: INFO_200\n",
       "3       Timestamp: 2023-10-27 10:00:00, Error: INFO_200\n",
       "4       Timestamp: 2023-10-27 10:00:00, Error: WARN_101\n",
       "...                                                 ...\n",
       "999995   Timestamp: 2023-10-27 10:00:00, Error: ERR_500\n",
       "999996  Timestamp: 2023-10-27 10:00:00, Error: INFO_200\n",
       "999997   Timestamp: 2023-10-27 10:00:00, Error: ERR_404\n",
       "999998   Timestamp: 2023-10-27 10:00:00, Error: ERR_500\n",
       "999999   Timestamp: 2023-10-27 10:00:00, Error: ERR_500\n",
       "\n",
       "[1000000 rows x 1 columns]"
      ]
     },
     "execution_count": 2,
     "metadata": {},
     "output_type": "execute_result"
    }
   ],
   "source": [
    "df = pd.read_excel('./data/logs.txt.xlsx', header=None, names = ['mixed'])\n",
    "df"
   ]
  },
  {
   "cell_type": "code",
   "execution_count": 3,
   "metadata": {},
   "outputs": [
    {
     "name": "stdout",
     "output_type": "stream",
     "text": [
      "['Timestamp:', '2023-10-27', '10:00:00,', 'Error:', 'ERR_400']\n"
     ]
    }
   ],
   "source": [
    "txt = df.head(1).mixed[0]\n",
    "\n",
    "x = txt.split()\n",
    "\n",
    "print(x)\n"
   ]
  },
  {
   "cell_type": "code",
   "execution_count": 4,
   "metadata": {},
   "outputs": [
    {
     "data": {
      "text/html": [
       "<div>\n",
       "<style scoped>\n",
       "    .dataframe tbody tr th:only-of-type {\n",
       "        vertical-align: middle;\n",
       "    }\n",
       "\n",
       "    .dataframe tbody tr th {\n",
       "        vertical-align: top;\n",
       "    }\n",
       "\n",
       "    .dataframe thead th {\n",
       "        text-align: right;\n",
       "    }\n",
       "</style>\n",
       "<table border=\"1\" class=\"dataframe\">\n",
       "  <thead>\n",
       "    <tr style=\"text-align: right;\">\n",
       "      <th></th>\n",
       "      <th>mixed</th>\n",
       "      <th>t</th>\n",
       "      <th>date</th>\n",
       "      <th>hour</th>\n",
       "      <th>e</th>\n",
       "      <th>err</th>\n",
       "    </tr>\n",
       "  </thead>\n",
       "  <tbody>\n",
       "    <tr>\n",
       "      <th>0</th>\n",
       "      <td>Timestamp: 2023-10-27 10:00:00, Error: ERR_400</td>\n",
       "      <td>Timestamp:</td>\n",
       "      <td>2023-10-27</td>\n",
       "      <td>10:00:00,</td>\n",
       "      <td>Error:</td>\n",
       "      <td>ERR_400</td>\n",
       "    </tr>\n",
       "    <tr>\n",
       "      <th>1</th>\n",
       "      <td>Timestamp: 2023-10-27 10:00:00, Error: ERR_500</td>\n",
       "      <td>Timestamp:</td>\n",
       "      <td>2023-10-27</td>\n",
       "      <td>10:00:00,</td>\n",
       "      <td>Error:</td>\n",
       "      <td>ERR_500</td>\n",
       "    </tr>\n",
       "    <tr>\n",
       "      <th>2</th>\n",
       "      <td>Timestamp: 2023-10-27 10:00:00, Error: INFO_200</td>\n",
       "      <td>Timestamp:</td>\n",
       "      <td>2023-10-27</td>\n",
       "      <td>10:00:00,</td>\n",
       "      <td>Error:</td>\n",
       "      <td>INFO_200</td>\n",
       "    </tr>\n",
       "    <tr>\n",
       "      <th>3</th>\n",
       "      <td>Timestamp: 2023-10-27 10:00:00, Error: INFO_200</td>\n",
       "      <td>Timestamp:</td>\n",
       "      <td>2023-10-27</td>\n",
       "      <td>10:00:00,</td>\n",
       "      <td>Error:</td>\n",
       "      <td>INFO_200</td>\n",
       "    </tr>\n",
       "    <tr>\n",
       "      <th>4</th>\n",
       "      <td>Timestamp: 2023-10-27 10:00:00, Error: WARN_101</td>\n",
       "      <td>Timestamp:</td>\n",
       "      <td>2023-10-27</td>\n",
       "      <td>10:00:00,</td>\n",
       "      <td>Error:</td>\n",
       "      <td>WARN_101</td>\n",
       "    </tr>\n",
       "    <tr>\n",
       "      <th>...</th>\n",
       "      <td>...</td>\n",
       "      <td>...</td>\n",
       "      <td>...</td>\n",
       "      <td>...</td>\n",
       "      <td>...</td>\n",
       "      <td>...</td>\n",
       "    </tr>\n",
       "    <tr>\n",
       "      <th>999995</th>\n",
       "      <td>Timestamp: 2023-10-27 10:00:00, Error: ERR_500</td>\n",
       "      <td>Timestamp:</td>\n",
       "      <td>2023-10-27</td>\n",
       "      <td>10:00:00,</td>\n",
       "      <td>Error:</td>\n",
       "      <td>ERR_500</td>\n",
       "    </tr>\n",
       "    <tr>\n",
       "      <th>999996</th>\n",
       "      <td>Timestamp: 2023-10-27 10:00:00, Error: INFO_200</td>\n",
       "      <td>Timestamp:</td>\n",
       "      <td>2023-10-27</td>\n",
       "      <td>10:00:00,</td>\n",
       "      <td>Error:</td>\n",
       "      <td>INFO_200</td>\n",
       "    </tr>\n",
       "    <tr>\n",
       "      <th>999997</th>\n",
       "      <td>Timestamp: 2023-10-27 10:00:00, Error: ERR_404</td>\n",
       "      <td>Timestamp:</td>\n",
       "      <td>2023-10-27</td>\n",
       "      <td>10:00:00,</td>\n",
       "      <td>Error:</td>\n",
       "      <td>ERR_404</td>\n",
       "    </tr>\n",
       "    <tr>\n",
       "      <th>999998</th>\n",
       "      <td>Timestamp: 2023-10-27 10:00:00, Error: ERR_500</td>\n",
       "      <td>Timestamp:</td>\n",
       "      <td>2023-10-27</td>\n",
       "      <td>10:00:00,</td>\n",
       "      <td>Error:</td>\n",
       "      <td>ERR_500</td>\n",
       "    </tr>\n",
       "    <tr>\n",
       "      <th>999999</th>\n",
       "      <td>Timestamp: 2023-10-27 10:00:00, Error: ERR_500</td>\n",
       "      <td>Timestamp:</td>\n",
       "      <td>2023-10-27</td>\n",
       "      <td>10:00:00,</td>\n",
       "      <td>Error:</td>\n",
       "      <td>ERR_500</td>\n",
       "    </tr>\n",
       "  </tbody>\n",
       "</table>\n",
       "<p>1000000 rows × 6 columns</p>\n",
       "</div>"
      ],
      "text/plain": [
       "                                                  mixed           t  \\\n",
       "0        Timestamp: 2023-10-27 10:00:00, Error: ERR_400  Timestamp:   \n",
       "1        Timestamp: 2023-10-27 10:00:00, Error: ERR_500  Timestamp:   \n",
       "2       Timestamp: 2023-10-27 10:00:00, Error: INFO_200  Timestamp:   \n",
       "3       Timestamp: 2023-10-27 10:00:00, Error: INFO_200  Timestamp:   \n",
       "4       Timestamp: 2023-10-27 10:00:00, Error: WARN_101  Timestamp:   \n",
       "...                                                 ...         ...   \n",
       "999995   Timestamp: 2023-10-27 10:00:00, Error: ERR_500  Timestamp:   \n",
       "999996  Timestamp: 2023-10-27 10:00:00, Error: INFO_200  Timestamp:   \n",
       "999997   Timestamp: 2023-10-27 10:00:00, Error: ERR_404  Timestamp:   \n",
       "999998   Timestamp: 2023-10-27 10:00:00, Error: ERR_500  Timestamp:   \n",
       "999999   Timestamp: 2023-10-27 10:00:00, Error: ERR_500  Timestamp:   \n",
       "\n",
       "              date       hour       e       err  \n",
       "0       2023-10-27  10:00:00,  Error:   ERR_400  \n",
       "1       2023-10-27  10:00:00,  Error:   ERR_500  \n",
       "2       2023-10-27  10:00:00,  Error:  INFO_200  \n",
       "3       2023-10-27  10:00:00,  Error:  INFO_200  \n",
       "4       2023-10-27  10:00:00,  Error:  WARN_101  \n",
       "...            ...        ...     ...       ...  \n",
       "999995  2023-10-27  10:00:00,  Error:   ERR_500  \n",
       "999996  2023-10-27  10:00:00,  Error:  INFO_200  \n",
       "999997  2023-10-27  10:00:00,  Error:   ERR_404  \n",
       "999998  2023-10-27  10:00:00,  Error:   ERR_500  \n",
       "999999  2023-10-27  10:00:00,  Error:   ERR_500  \n",
       "\n",
       "[1000000 rows x 6 columns]"
      ]
     },
     "execution_count": 4,
     "metadata": {},
     "output_type": "execute_result"
    }
   ],
   "source": [
    "# Split the 'mixed' column into two separate columns 'A' and 'B'\n",
    "df[['t','date', 'hour', 'e', 'err']] = df['mixed'].str.split(' ', expand=True)\n",
    "df"
   ]
  },
  {
   "cell_type": "code",
   "execution_count": 5,
   "metadata": {},
   "outputs": [
    {
     "data": {
      "text/html": [
       "<div>\n",
       "<style scoped>\n",
       "    .dataframe tbody tr th:only-of-type {\n",
       "        vertical-align: middle;\n",
       "    }\n",
       "\n",
       "    .dataframe tbody tr th {\n",
       "        vertical-align: top;\n",
       "    }\n",
       "\n",
       "    .dataframe thead th {\n",
       "        text-align: right;\n",
       "    }\n",
       "</style>\n",
       "<table border=\"1\" class=\"dataframe\">\n",
       "  <thead>\n",
       "    <tr style=\"text-align: right;\">\n",
       "      <th></th>\n",
       "      <th>err</th>\n",
       "    </tr>\n",
       "  </thead>\n",
       "  <tbody>\n",
       "    <tr>\n",
       "      <th>0</th>\n",
       "      <td>ERR_400</td>\n",
       "    </tr>\n",
       "    <tr>\n",
       "      <th>1</th>\n",
       "      <td>ERR_500</td>\n",
       "    </tr>\n",
       "    <tr>\n",
       "      <th>2</th>\n",
       "      <td>INFO_200</td>\n",
       "    </tr>\n",
       "    <tr>\n",
       "      <th>3</th>\n",
       "      <td>INFO_200</td>\n",
       "    </tr>\n",
       "    <tr>\n",
       "      <th>4</th>\n",
       "      <td>WARN_101</td>\n",
       "    </tr>\n",
       "    <tr>\n",
       "      <th>...</th>\n",
       "      <td>...</td>\n",
       "    </tr>\n",
       "    <tr>\n",
       "      <th>999995</th>\n",
       "      <td>ERR_500</td>\n",
       "    </tr>\n",
       "    <tr>\n",
       "      <th>999996</th>\n",
       "      <td>INFO_200</td>\n",
       "    </tr>\n",
       "    <tr>\n",
       "      <th>999997</th>\n",
       "      <td>ERR_404</td>\n",
       "    </tr>\n",
       "    <tr>\n",
       "      <th>999998</th>\n",
       "      <td>ERR_500</td>\n",
       "    </tr>\n",
       "    <tr>\n",
       "      <th>999999</th>\n",
       "      <td>ERR_500</td>\n",
       "    </tr>\n",
       "  </tbody>\n",
       "</table>\n",
       "<p>1000000 rows × 1 columns</p>\n",
       "</div>"
      ],
      "text/plain": [
       "             err\n",
       "0        ERR_400\n",
       "1        ERR_500\n",
       "2       INFO_200\n",
       "3       INFO_200\n",
       "4       WARN_101\n",
       "...          ...\n",
       "999995   ERR_500\n",
       "999996  INFO_200\n",
       "999997   ERR_404\n",
       "999998   ERR_500\n",
       "999999   ERR_500\n",
       "\n",
       "[1000000 rows x 1 columns]"
      ]
     },
     "execution_count": 5,
     "metadata": {},
     "output_type": "execute_result"
    }
   ],
   "source": [
    "errs = pd.DataFrame(df['err'])\n",
    "errs"
   ]
  },
  {
   "cell_type": "code",
   "execution_count": 6,
   "metadata": {},
   "outputs": [
    {
     "data": {
      "text/plain": [
       "array(['ERR_400', 'ERR_500', 'INFO_200', 'WARN_101', 'ERR_404'],\n",
       "      dtype=object)"
      ]
     },
     "execution_count": 6,
     "metadata": {},
     "output_type": "execute_result"
    }
   ],
   "source": [
    "uniqe = errs['err'].unique()\n",
    "uniqe"
   ]
  },
  {
   "cell_type": "code",
   "execution_count": 7,
   "metadata": {},
   "outputs": [],
   "source": [
    "N = 4"
   ]
  },
  {
   "cell_type": "code",
   "execution_count": 8,
   "metadata": {},
   "outputs": [
    {
     "name": "stderr",
     "output_type": "stream",
     "text": [
      "c:\\Users\\User\\AppData\\Local\\Programs\\Python\\Python313\\Lib\\site-packages\\numpy\\_core\\fromnumeric.py:57: FutureWarning: 'DataFrame.swapaxes' is deprecated and will be removed in a future version. Please use 'DataFrame.transpose' instead.\n",
      "  return bound(*args, **kwds)\n"
     ]
    },
    {
     "data": {
      "text/plain": [
       "[             err\n",
       " 0        ERR_400\n",
       " 1        ERR_500\n",
       " 2       INFO_200\n",
       " 3       INFO_200\n",
       " 4       WARN_101\n",
       " ...          ...\n",
       " 249995   ERR_404\n",
       " 249996   ERR_500\n",
       " 249997  INFO_200\n",
       " 249998   ERR_404\n",
       " 249999  WARN_101\n",
       " \n",
       " [250000 rows x 1 columns],\n",
       "              err\n",
       " 250000  INFO_200\n",
       " 250001  INFO_200\n",
       " 250002   ERR_400\n",
       " 250003  WARN_101\n",
       " 250004   ERR_404\n",
       " ...          ...\n",
       " 499995  INFO_200\n",
       " 499996  INFO_200\n",
       " 499997  INFO_200\n",
       " 499998  WARN_101\n",
       " 499999  WARN_101\n",
       " \n",
       " [250000 rows x 1 columns],\n",
       "              err\n",
       " 500000   ERR_400\n",
       " 500001  WARN_101\n",
       " 500002   ERR_404\n",
       " 500003  WARN_101\n",
       " 500004  INFO_200\n",
       " ...          ...\n",
       " 749995   ERR_400\n",
       " 749996  INFO_200\n",
       " 749997  WARN_101\n",
       " 749998   ERR_404\n",
       " 749999   ERR_400\n",
       " \n",
       " [250000 rows x 1 columns],\n",
       "              err\n",
       " 750000   ERR_404\n",
       " 750001   ERR_404\n",
       " 750002  WARN_101\n",
       " 750003   ERR_400\n",
       " 750004   ERR_500\n",
       " ...          ...\n",
       " 999995   ERR_500\n",
       " 999996  INFO_200\n",
       " 999997   ERR_404\n",
       " 999998   ERR_500\n",
       " 999999   ERR_500\n",
       " \n",
       " [250000 rows x 1 columns]]"
      ]
     },
     "execution_count": 8,
     "metadata": {},
     "output_type": "execute_result"
    }
   ],
   "source": [
    "# shuffled = errs.sample(frac=1)\n",
    "# print(shuffled)\n",
    "divided =np.array_split(errs, N)  \n",
    "divided"
   ]
  },
  {
   "cell_type": "code",
   "execution_count": 9,
   "metadata": {},
   "outputs": [],
   "source": [
    "def find_frequencies(arr:list[str], unique_values):\n",
    "    print('uniqe_values:', unique_values)\n",
    "    frequencies = {}\n",
    "    for value in unique_values:\n",
    "        print(value)\n",
    "        frequencies[value] = np.sum(arr == value).values.sum()\n",
    "    for value in unique_values:\n",
    "        print(f\"Value: {value}, Frequency: {frequencies[value]}\")\n",
    "    return frequencies"
   ]
  },
  {
   "cell_type": "code",
   "execution_count": 10,
   "metadata": {},
   "outputs": [],
   "source": [
    "def get_full_dict_from_divided(divided, uniqe, N):\n",
    "    print(\"N:\", N)\n",
    "    dict = {}\n",
    "    for i in range(N):\n",
    "        d = find_frequencies(divided[i], uniqe)\n",
    "        for u in uniqe:\n",
    "            dict[u] = dict.get(u,0) + d[u]\n",
    "    return dict"
   ]
  },
  {
   "cell_type": "code",
   "execution_count": 11,
   "metadata": {},
   "outputs": [
    {
     "name": "stderr",
     "output_type": "stream",
     "text": [
      "c:\\Users\\User\\AppData\\Local\\Programs\\Python\\Python313\\Lib\\site-packages\\numpy\\_core\\fromnumeric.py:84: FutureWarning: The behavior of DataFrame.sum with axis=None is deprecated, in a future version this will reduce over both axes and return a scalar. To retain the old behavior, pass axis=0 (or do not pass axis)\n",
      "  return reduction(axis=axis, out=out, **passkwargs)\n"
     ]
    },
    {
     "name": "stdout",
     "output_type": "stream",
     "text": [
      "N: 4\n",
      "uniqe_values: ['ERR_400' 'ERR_500' 'INFO_200' 'WARN_101' 'ERR_404']\n",
      "ERR_400\n",
      "ERR_500\n",
      "INFO_200\n",
      "WARN_101\n",
      "ERR_404\n",
      "Value: ERR_400, Frequency: 49745\n",
      "Value: ERR_500, Frequency: 49832\n",
      "Value: INFO_200, Frequency: 50044\n",
      "Value: WARN_101, Frequency: 50250\n",
      "Value: ERR_404, Frequency: 50129\n",
      "uniqe_values: ['ERR_400' 'ERR_500' 'INFO_200' 'WARN_101' 'ERR_404']\n",
      "ERR_400\n",
      "ERR_500\n",
      "INFO_200\n",
      "WARN_101\n",
      "ERR_404\n",
      "Value: ERR_400, Frequency: 49765\n",
      "Value: ERR_500, Frequency: 50147\n",
      "Value: INFO_200, Frequency: 49959\n",
      "Value: WARN_101, Frequency: 50251\n",
      "Value: ERR_404, Frequency: 49878\n",
      "uniqe_values: ['ERR_400' 'ERR_500' 'INFO_200' 'WARN_101' 'ERR_404']\n",
      "ERR_400\n",
      "ERR_500\n",
      "INFO_200\n",
      "WARN_101\n",
      "ERR_404\n",
      "Value: ERR_400, Frequency: 50316\n",
      "Value: ERR_500, Frequency: 49872\n",
      "Value: INFO_200, Frequency: 50018\n",
      "Value: WARN_101, Frequency: 49625\n",
      "Value: ERR_404, Frequency: 50169\n",
      "uniqe_values: ['ERR_400' 'ERR_500' 'INFO_200' 'WARN_101' 'ERR_404']\n",
      "ERR_400\n",
      "ERR_500\n",
      "INFO_200\n",
      "WARN_101\n",
      "ERR_404\n",
      "Value: ERR_400, Frequency: 50243\n",
      "Value: ERR_500, Frequency: 49957\n",
      "Value: INFO_200, Frequency: 49910\n",
      "Value: WARN_101, Frequency: 49972\n",
      "Value: ERR_404, Frequency: 49918\n",
      "full_dict[ERR_400]:  200069\n"
     ]
    }
   ],
   "source": [
    "N = 4\n",
    "full_dict = get_full_dict_from_divided(divided, uniqe,N)\n",
    "print('full_dict[''ERR_400'']: ', full_dict['ERR_400'])"
   ]
  },
  {
   "cell_type": "code",
   "execution_count": 12,
   "metadata": {},
   "outputs": [
    {
     "name": "stderr",
     "output_type": "stream",
     "text": [
      "c:\\Users\\User\\AppData\\Local\\Programs\\Python\\Python313\\Lib\\site-packages\\numpy\\_core\\fromnumeric.py:84: FutureWarning: The behavior of DataFrame.sum with axis=None is deprecated, in a future version this will reduce over both axes and return a scalar. To retain the old behavior, pass axis=0 (or do not pass axis)\n",
      "  return reduction(axis=axis, out=out, **passkwargs)\n",
      "c:\\Users\\User\\AppData\\Local\\Programs\\Python\\Python313\\Lib\\site-packages\\numpy\\_core\\fromnumeric.py:84: FutureWarning: The behavior of DataFrame.sum with axis=None is deprecated, in a future version this will reduce over both axes and return a scalar. To retain the old behavior, pass axis=0 (or do not pass axis)\n",
      "  return reduction(axis=axis, out=out, **passkwargs)\n",
      "c:\\Users\\User\\AppData\\Local\\Programs\\Python\\Python313\\Lib\\site-packages\\numpy\\_core\\fromnumeric.py:84: FutureWarning: The behavior of DataFrame.sum with axis=None is deprecated, in a future version this will reduce over both axes and return a scalar. To retain the old behavior, pass axis=0 (or do not pass axis)\n",
      "  return reduction(axis=axis, out=out, **passkwargs)\n"
     ]
    },
    {
     "data": {
      "text/plain": [
       "err    1000000\n",
       "dtype: int64"
      ]
     },
     "execution_count": 12,
     "metadata": {},
     "output_type": "execute_result"
    }
   ],
   "source": [
    "np.sum(errs == 'INFO_200')+np.sum(errs == 'ERR_500')+np.sum(errs == 'ERR_400')+np.sum(errs == 'WARN_101')+np.sum(errs == 'ERR_404')"
   ]
  },
  {
   "cell_type": "code",
   "execution_count": 14,
   "metadata": {},
   "outputs": [
    {
     "ename": "KeyError",
     "evalue": "np.int64(200069)",
     "output_type": "error",
     "traceback": [
      "\u001b[1;31m---------------------------------------------------------------------------\u001b[0m",
      "\u001b[1;31mKeyError\u001b[0m                                  Traceback (most recent call last)",
      "Cell \u001b[1;32mIn[14], line 5\u001b[0m\n\u001b[0;32m      3\u001b[0m \u001b[38;5;28;01mfor\u001b[39;00m u \u001b[38;5;129;01min\u001b[39;00m uniqe:\n\u001b[0;32m      4\u001b[0m     freq\u001b[38;5;241m.\u001b[39mappend(full_dict[u])\n\u001b[1;32m----> 5\u001b[0m     \u001b[43mnewdict\u001b[49m\u001b[43m[\u001b[49m\u001b[43mfull_dict\u001b[49m\u001b[43m[\u001b[49m\u001b[43mu\u001b[49m\u001b[43m]\u001b[49m\u001b[43m]\u001b[49m\u001b[38;5;241m.\u001b[39mappend(u)\n\u001b[0;32m      6\u001b[0m freq \u001b[38;5;241m=\u001b[39m np\u001b[38;5;241m.\u001b[39marray(freq)\n",
      "\u001b[1;31mKeyError\u001b[0m: np.int64(200069)"
     ]
    }
   ],
   "source": [
    "freq = []\n",
    "newdict = {}\n",
    "for u in uniqe:\n",
    "    freq.append(full_dict[u])\n",
    "    newdict[full_dict[u]].append(u)\n",
    "freq = np.array(freq)"
   ]
  },
  {
   "cell_type": "code",
   "execution_count": null,
   "metadata": {},
   "outputs": [],
   "source": [
    "newdict "
   ]
  },
  {
   "cell_type": "code",
   "execution_count": null,
   "metadata": {},
   "outputs": [
    {
     "name": "stdout",
     "output_type": "stream",
     "text": [
      "[200098 200094 200069 199931 199808]\n"
     ]
    }
   ],
   "source": [
    "freq = -np.sort(-freq)\n",
    "print(freq)"
   ]
  },
  {
   "cell_type": "code",
   "execution_count": null,
   "metadata": {},
   "outputs": [
    {
     "name": "stdout",
     "output_type": "stream",
     "text": [
      "the most N common errors:\n"
     ]
    },
    {
     "data": {
      "text/plain": [
       "[['WARN_101', np.int64(200098)],\n",
       " ['ERR_404', np.int64(200094)],\n",
       " ['ERR_400', np.int64(200069)],\n",
       " ['INFO_200', np.int64(199931)]]"
      ]
     },
     "execution_count": 16,
     "metadata": {},
     "output_type": "execute_result"
    }
   ],
   "source": [
    "print('the most N common errors:') #the N is initialized above\n",
    "res = []\n",
    "for i in range(N):\n",
    "    res.append([newdict[freq[i]], freq[i]])\n",
    "    #print('frequency:', freq[i], 'error:', newdict[freq[i]])\n",
    "res"
   ]
  },
  {
   "cell_type": "markdown",
   "metadata": {},
   "source": [
    "time complexity of the algorithm is O(nlogn) on average.\n",
    "O(nlogn) because of the sorting step. \n",
    "the rest operations are O(n) on average because it uses:\n",
    "    known number of times (the callings) * n errors * O(1) on average- the complexity of the dictionary operations- hash table."
   ]
  },
  {
   "cell_type": "markdown",
   "metadata": {},
   "source": [
    "place complexity of the algorithm is O(n) because of the dictionary and the array that we created.\n",
    "acctually, it takes a few times O(n) but it known number of times- we can look at the code to see that, so it is O(n) in the end."
   ]
  }
 ],
 "metadata": {
  "kernelspec": {
   "display_name": "Python 3",
   "language": "python",
   "name": "python3"
  },
  "language_info": {
   "codemirror_mode": {
    "name": "ipython",
    "version": 3
   },
   "file_extension": ".py",
   "mimetype": "text/x-python",
   "name": "python",
   "nbconvert_exporter": "python",
   "pygments_lexer": "ipython3",
   "version": "3.13.1"
  }
 },
 "nbformat": 4,
 "nbformat_minor": 2
}
